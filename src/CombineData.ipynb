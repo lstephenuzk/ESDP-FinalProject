{
 "cells": [
  {
   "cell_type": "markdown",
   "id": "4d6df0f8-775c-4087-adc8-7a0803bdca76",
   "metadata": {
    "editable": true,
    "slideshow": {
     "slide_type": ""
    },
    "tags": []
   },
   "source": [
    "### Script to load monthly netcdf flight data and combine into single pandas dataframe"
   ]
  },
  {
   "cell_type": "code",
   "execution_count": 2,
   "id": "ca738f13-0757-499e-a13a-692c0f261894",
   "metadata": {
    "editable": true,
    "slideshow": {
     "slide_type": ""
    },
    "tags": []
   },
   "outputs": [
    {
     "data": {
      "text/plain": [
       "'/p/project1/deepacf/stephenson1/ESDP-FinalProject'"
      ]
     },
     "execution_count": 2,
     "metadata": {},
     "output_type": "execute_result"
    }
   ],
   "source": [
    "import xarray as xr\n",
    "import pandas as pd\n",
    "import numpy as np\n",
    "from glob import glob\n",
    "import matplotlib.pyplot as plt\n",
    "import numpy as np\n",
    "from sklearn.linear_model import LinearRegression\n",
    "import os\n",
    "os.chdir('/p/project1/deepacf/stephenson1/ESDP-FinalProject/')\n",
    "os.getcwd()"
   ]
  },
  {
   "cell_type": "code",
   "execution_count": 4,
   "id": "0fd43572-129d-4198-9102-34204372cc7a",
   "metadata": {
    "scrolled": true
   },
   "outputs": [
    {
     "name": "stdout",
     "output_type": "stream",
     "text": [
      
     ]
    }
   ],
   "source": [
    "## loop through folders and files in folder and add to list\n",
    "folders = sorted(glob(\"/p/scratch/deepacf/external_data/IAGOS/*/\", recursive = True))\n",
    "\n",
    "data_list = []\n",
    "for i in range(0, len(folders)):\n",
    "#for i in range(0, 2):\n",
    "    file_list = sorted(glob(folders[i] + \"/*.nc\"))\n",
    "    for j in range(0, len(file_list)):\n",
    "        nc_file = xr.open_dataset(file_list[j])\n",
    "        df = nc_file.to_dataframe()\n",
    "        data_list.append(df)\n",
    "        print(file_list[j])\n",
    "    #print(folders[i])"
   ]
  },
  {
   "cell_type": "code",
   "execution_count": 5,
   "id": "b1a694a9-f180-4237-bf4b-e1c9c1db0fe6",
   "metadata": {},
   "outputs": [],
   "source": [
    "## concatenate list into dataframe\n",
    "data_all = pd.concat(data_list)"
   ]
  },
  {
   "cell_type": "code",
   "execution_count": 6,
   "id": "450f66ee-3ebc-4c83-b097-b2a9a715217d",
   "metadata": {},
   "outputs": [],
   "source": [
    "del data_list"
   ]
  },
  {
   "cell_type": "code",
   "execution_count": 7,
   "id": "8524e4e0-3610-4bb0-9cd0-eae645d543ba",
   "metadata": {},
   "outputs": [],
   "source": [
    "## select columns of interest\n",
    "data_all_select = data_all.loc[:, ['air_press', 'lon', 'lat', 'air_temp', 'air_temp_flag',\n",
    "                                  'RHI', 'RHI_flag', 'RHL', 'RHL_flag', 'baro_alt']]"
   ]
  },
  {
   "cell_type": "code",
   "execution_count": 8,
   "id": "c1971306-5af5-4c60-bcce-95316b3585c0",
   "metadata": {},
   "outputs": [],
   "source": [
    "## remove missing values\n",
    "data_all_select = data_all_select.dropna()\n",
    "\n",
    "## filter to desired pressure level\n",
    "data_all_select = data_all_select[(data_all_select['air_press'] >= 150) & \n",
    "                                    (data_all_select['air_press'] <= 400)]\n",
    "\n",
    "## filter to north atlantic\n",
    "data_all_select = data_all_select[(data_all_select['lat'] >= 0) & (data_all_select['lat'] <= 68) &\n",
    "                                    (data_all_select['lon'] >= -80) & (data_all_select['lon'] <= 0)]\n",
    "\n",
    "## filter temperature and humidity values\n",
    "data_all_select = data_all_select[(data_all_select['RHL'] >= 0) & (data_all_select['RHL'] <= 1)]\n",
    "data_all_select = data_all_select[(data_all_select['RHI'] >= 0) & (data_all_select['RHI'] <= 1)]\n",
    "data_all_select = data_all_select[(data_all_select['air_temp'] >= 193) & \n",
    "                                    (data_all_select['air_temp'] <= 333)]"
   ]
  },
  {
   "cell_type": "code",
   "execution_count": 9,
   "id": "ba4ad743-7d00-40e8-bd8c-6c46d5818591",
   "metadata": {},
   "outputs": [
    {
     "data": {
      "text/html": [
       "<div>\n",
       "<style scoped>\n",
       "    .dataframe tbody tr th:only-of-type {\n",
       "        vertical-align: middle;\n",
       "    }\n",
       "\n",
       "    .dataframe tbody tr th {\n",
       "        vertical-align: top;\n",
       "    }\n",
       "\n",
       "    .dataframe thead th {\n",
       "        text-align: right;\n",
       "    }\n",
       "</style>\n",
       "<table border=\"1\" class=\"dataframe\">\n",
       "  <thead>\n",
       "    <tr style=\"text-align: right;\">\n",
       "      <th></th>\n",
       "      <th>air_press</th>\n",
       "      <th>lon</th>\n",
       "      <th>lat</th>\n",
       "      <th>air_temp</th>\n",
       "      <th>air_temp_flag</th>\n",
       "      <th>RHI</th>\n",
       "      <th>RHI_flag</th>\n",
       "      <th>RHL</th>\n",
       "      <th>RHL_flag</th>\n",
       "      <th>baro_alt</th>\n",
       "    </tr>\n",
       "    <tr>\n",
       "      <th>time</th>\n",
       "      <th></th>\n",
       "      <th></th>\n",
       "      <th></th>\n",
       "      <th></th>\n",
       "      <th></th>\n",
       "      <th></th>\n",
       "      <th></th>\n",
       "      <th></th>\n",
       "      <th></th>\n",
       "      <th></th>\n",
       "    </tr>\n",
       "  </thead>\n",
       "  <tbody>\n",
       "    <tr>\n",
       "      <th>1996-01-01 13:42:04</th>\n",
       "      <td>237.899994</td>\n",
       "      <td>-2.02</td>\n",
       "      <td>55.00</td>\n",
       "      <td>215.410004</td>\n",
       "      <td>13.0</td>\n",
       "      <td>0.995217</td>\n",
       "      <td>10.0</td>\n",
       "      <td>0.548</td>\n",
       "      <td>12.0</td>\n",
       "      <td>10682.000000</td>\n",
       "    </tr>\n",
       "    <tr>\n",
       "      <th>1996-01-01 13:42:08</th>\n",
       "      <td>237.800003</td>\n",
       "      <td>-2.02</td>\n",
       "      <td>55.00</td>\n",
       "      <td>215.460007</td>\n",
       "      <td>13.0</td>\n",
       "      <td>0.966160</td>\n",
       "      <td>10.0</td>\n",
       "      <td>0.532</td>\n",
       "      <td>12.0</td>\n",
       "      <td>10682.900391</td>\n",
       "    </tr>\n",
       "    <tr>\n",
       "      <th>1996-01-01 13:42:12</th>\n",
       "      <td>237.800003</td>\n",
       "      <td>-2.04</td>\n",
       "      <td>55.02</td>\n",
       "      <td>215.369995</td>\n",
       "      <td>13.0</td>\n",
       "      <td>0.939358</td>\n",
       "      <td>10.0</td>\n",
       "      <td>0.516</td>\n",
       "      <td>12.0</td>\n",
       "      <td>10684.200195</td>\n",
       "    </tr>\n",
       "    <tr>\n",
       "      <th>1996-01-01 13:42:16</th>\n",
       "      <td>237.800003</td>\n",
       "      <td>-2.04</td>\n",
       "      <td>55.02</td>\n",
       "      <td>215.119995</td>\n",
       "      <td>13.0</td>\n",
       "      <td>0.915692</td>\n",
       "      <td>10.0</td>\n",
       "      <td>0.503</td>\n",
       "      <td>12.0</td>\n",
       "      <td>10684.200195</td>\n",
       "    </tr>\n",
       "    <tr>\n",
       "      <th>1996-01-01 13:42:20</th>\n",
       "      <td>237.800003</td>\n",
       "      <td>-2.06</td>\n",
       "      <td>55.02</td>\n",
       "      <td>214.880005</td>\n",
       "      <td>13.0</td>\n",
       "      <td>0.892026</td>\n",
       "      <td>10.0</td>\n",
       "      <td>0.490</td>\n",
       "      <td>12.0</td>\n",
       "      <td>10684.200195</td>\n",
       "    </tr>\n",
       "  </tbody>\n",
       "</table>\n",
       "</div>"
      ],
      "text/plain": [
       "                      air_press   lon    lat    air_temp  air_temp_flag  \\\n",
       "time                                                                      \n",
       "1996-01-01 13:42:04  237.899994 -2.02  55.00  215.410004           13.0   \n",
       "1996-01-01 13:42:08  237.800003 -2.02  55.00  215.460007           13.0   \n",
       "1996-01-01 13:42:12  237.800003 -2.04  55.02  215.369995           13.0   \n",
       "1996-01-01 13:42:16  237.800003 -2.04  55.02  215.119995           13.0   \n",
       "1996-01-01 13:42:20  237.800003 -2.06  55.02  214.880005           13.0   \n",
       "\n",
       "                          RHI  RHI_flag    RHL  RHL_flag      baro_alt  \n",
       "time                                                                    \n",
       "1996-01-01 13:42:04  0.995217      10.0  0.548      12.0  10682.000000  \n",
       "1996-01-01 13:42:08  0.966160      10.0  0.532      12.0  10682.900391  \n",
       "1996-01-01 13:42:12  0.939358      10.0  0.516      12.0  10684.200195  \n",
       "1996-01-01 13:42:16  0.915692      10.0  0.503      12.0  10684.200195  \n",
       "1996-01-01 13:42:20  0.892026      10.0  0.490      12.0  10684.200195  "
      ]
     },
     "execution_count": 9,
     "metadata": {},
     "output_type": "execute_result"
    }
   ],
   "source": [
    "data_all_select.head()"
   ]
  },
  {
   "cell_type": "code",
   "execution_count": 10,
   "id": "d9bf4237-f806-45d0-822f-8a74eb094744",
   "metadata": {},
   "outputs": [
    {
     "data": {
      "text/plain": [
       "324315891"
      ]
     },
     "execution_count": 10,
     "metadata": {},
     "output_type": "execute_result"
    }
   ],
   "source": [
    "len(data_all.index) - len(data_all_select.index)"
   ]
  },
  {
   "cell_type": "code",
   "execution_count": 11,
   "id": "f7b514a0-8262-421b-916f-6c0e51f03689",
   "metadata": {},
   "outputs": [],
   "source": [
    "## save dataframe as pickle for analysis\n",
    "data_all_select.to_pickle(\"/p/project1/deepacf/stephenson1/ESDP-FinalProject/iagos_combined.pkl\")"
   ]
  }
 ],
 "metadata": {
  "kernelspec": {
   "display_name": "Python 3 (ipykernel)",
   "language": "python",
   "name": "python3"
  },
  "language_info": {
   "codemirror_mode": {
    "name": "ipython",
    "version": 3
   },
   "file_extension": ".py",
   "mimetype": "text/x-python",
   "name": "python",
   "nbconvert_exporter": "python",
   "pygments_lexer": "ipython3",
   "version": "3.11.3"
  }
 },
 "nbformat": 4,
 "nbformat_minor": 5
}
