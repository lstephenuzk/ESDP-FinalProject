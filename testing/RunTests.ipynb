{
 "cells": [
  {
   "cell_type": "code",
   "execution_count": 1,
   "id": "06d68d85-75cd-4a51-9671-e8a07c3c30c3",
   "metadata": {},
   "outputs": [
    {
     "data": {
      "text/plain": [
       "'/p/project1/deepacf/stephenson1/ESDP-FinalProject'"
      ]
     },
     "execution_count": 1,
     "metadata": {},
     "output_type": "execute_result"
    }
   ],
   "source": [
    "import pytest\n",
    "import os\n",
    "os.chdir('/p/project1/deepacf/stephenson1/ESDP-FinalProject/')\n",
    "os.getcwd()"
   ]
  },
  {
   "cell_type": "code",
   "execution_count": 2,
   "id": "81225b5b-f314-417a-888e-389e588c4ce0",
   "metadata": {},
   "outputs": [
    {
     "name": "stdout",
     "output_type": "stream",
     "text": [
      "\u001b[1m============================= test session starts ==============================\u001b[0m\n",
      "platform linux -- Python 3.11.3, pytest-7.4.0, pluggy-1.2.0\n",
      "rootdir: /p/project1/deepacf/stephenson1/ESDP-FinalProject\n",
      "plugins: dash-2.17.0, anyio-4.3.0, xdist-3.3.1\n",
      "collected 5 items                                                              \u001b[0m\u001b[1m\n",
      "\n",
      "testing/test_value_range.py \u001b[32m.\u001b[0m\u001b[32m.\u001b[0m\u001b[32m.\u001b[0m\u001b[32m.\u001b[0m\u001b[32m.\u001b[0m\u001b[32m                                        [100%]\u001b[0m\n",
      "\n",
      "\u001b[32m============================== \u001b[32m\u001b[1m5 passed\u001b[0m\u001b[32m in 6.80s\u001b[0m\u001b[32m ===============================\u001b[0m\n"
     ]
    }
   ],
   "source": [
    "!pytest"
   ]
  }
 ],
 "metadata": {
  "kernelspec": {
   "display_name": "Python 3 (ipykernel)",
   "language": "python",
   "name": "python3"
  },
  "language_info": {
   "codemirror_mode": {
    "name": "ipython",
    "version": 3
   },
   "file_extension": ".py",
   "mimetype": "text/x-python",
   "name": "python",
   "nbconvert_exporter": "python",
   "pygments_lexer": "ipython3",
   "version": "3.11.3"
  }
 },
 "nbformat": 4,
 "nbformat_minor": 5
}
