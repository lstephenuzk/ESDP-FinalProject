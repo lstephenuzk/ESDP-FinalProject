{
 "cells": [
  {
   "cell_type": "markdown",
   "id": "4d6df0f8-775c-4087-adc8-7a0803bdca76",
   "metadata": {},
   "source": [
    "### Script to load monthly netcdf flight data and combine into single pandas dataframe"
   ]
  },
  {
   "cell_type": "code",
   "execution_count": 1,
   "id": "ca738f13-0757-499e-a13a-692c0f261894",
   "metadata": {
    "editable": true,
    "slideshow": {
     "slide_type": ""
    },
    "tags": []
   },
   "outputs": [
    {
     "data": {
      "text/plain": [
       "'/p/home/jusers/stephenson1/shared/ESDP-FinalProject'"
      ]
     },
     "execution_count": 1,
     "metadata": {},
     "output_type": "execute_result"
    }
   ],
   "source": [
    "import xarray as xr\n",
    "import pandas as pd\n",
    "import numpy as np\n",
    "from glob import glob\n",
    "import os\n",
    "os.chdir('/p/home/jusers/stephenson1/shared/ESDP-FinalProject')\n",
    "os.getcwd()"
   ]
  },
  {
   "cell_type": "code",
   "execution_count": null,
   "id": "0fd43572-129d-4198-9102-34204372cc7a",
   "metadata": {
    "scrolled": true
   },
   "outputs": [],
   "source": [
    "## loop through folders and files in folder and add to list\n",
    "folders = sorted(glob(\"/p/scratch/deepacf/external_data/IAGOS/*/\", recursive = True))\n",
    "\n",
    "data_list = []\n",
    "for i in range(0, len(folders)):\n",
    "#for i in range(0, 2):\n",
    "    file_list = sorted(glob(folders[i] + \"/*.nc\"))\n",
    "    for j in range(0, len(file_list)):\n",
    "        nc_file = xr.open_dataset(file_list[j])\n",
    "        df = nc_file.to_dataframe()\n",
    "        data_list.append(df)\n",
    "        #print(file_list[j])\n",
    "    #print(folders[i])"
   ]
  },
  {
   "cell_type": "code",
   "execution_count": 3,
   "id": "b1a694a9-f180-4237-bf4b-e1c9c1db0fe6",
   "metadata": {},
   "outputs": [],
   "source": [
    "## concatenate list into dataframe\n",
    "data_all = pd.concat(data_list)"
   ]
  },
  {
   "cell_type": "code",
   "execution_count": 11,
   "id": "8524e4e0-3610-4bb0-9cd0-eae645d543ba",
   "metadata": {},
   "outputs": [],
   "source": [
    "#data_all.head()\n",
    "#data_all.columns\n",
    "## select columns of interest\n",
    "data_all_select = data_all.loc[:, ['TROP1_PRESS', 'lon', 'lat', 'air_temp', 'air_temp_flag',\n",
    "                                  'RHI', 'RHI_flag', 'RHL', 'RHL_flag']]"
   ]
  },
  {
   "cell_type": "code",
   "execution_count": 21,
   "id": "ba4ad743-7d00-40e8-bd8c-6c46d5818591",
   "metadata": {},
   "outputs": [
    {
     "data": {
      "text/html": [
       "<div>\n",
       "<style scoped>\n",
       "    .dataframe tbody tr th:only-of-type {\n",
       "        vertical-align: middle;\n",
       "    }\n",
       "\n",
       "    .dataframe tbody tr th {\n",
       "        vertical-align: top;\n",
       "    }\n",
       "\n",
       "    .dataframe thead th {\n",
       "        text-align: right;\n",
       "    }\n",
       "</style>\n",
       "<table border=\"1\" class=\"dataframe\">\n",
       "  <thead>\n",
       "    <tr style=\"text-align: right;\">\n",
       "      <th></th>\n",
       "      <th>TROP1_PRESS</th>\n",
       "      <th>lon</th>\n",
       "      <th>lat</th>\n",
       "      <th>air_temp</th>\n",
       "      <th>air_temp_flag</th>\n",
       "      <th>RHI</th>\n",
       "      <th>RHI_flag</th>\n",
       "      <th>RHL</th>\n",
       "      <th>RHL_flag</th>\n",
       "    </tr>\n",
       "    <tr>\n",
       "      <th>time</th>\n",
       "      <th></th>\n",
       "      <th></th>\n",
       "      <th></th>\n",
       "      <th></th>\n",
       "      <th></th>\n",
       "      <th></th>\n",
       "      <th></th>\n",
       "      <th></th>\n",
       "      <th></th>\n",
       "    </tr>\n",
       "  </thead>\n",
       "  <tbody>\n",
       "    <tr>\n",
       "      <th>1996-01-01 02:53:47</th>\n",
       "      <td>332.184492</td>\n",
       "      <td>140.37</td>\n",
       "      <td>35.75</td>\n",
       "      <td>283.470001</td>\n",
       "      <td>10.0</td>\n",
       "      <td>NaN</td>\n",
       "      <td>17.0</td>\n",
       "      <td>0.244</td>\n",
       "      <td>10.0</td>\n",
       "    </tr>\n",
       "    <tr>\n",
       "      <th>1996-01-01 02:53:51</th>\n",
       "      <td>332.142461</td>\n",
       "      <td>140.37</td>\n",
       "      <td>35.75</td>\n",
       "      <td>283.200012</td>\n",
       "      <td>10.0</td>\n",
       "      <td>NaN</td>\n",
       "      <td>17.0</td>\n",
       "      <td>0.244</td>\n",
       "      <td>10.0</td>\n",
       "    </tr>\n",
       "    <tr>\n",
       "      <th>1996-01-01 02:53:55</th>\n",
       "      <td>332.080781</td>\n",
       "      <td>140.37</td>\n",
       "      <td>35.75</td>\n",
       "      <td>282.950012</td>\n",
       "      <td>10.0</td>\n",
       "      <td>NaN</td>\n",
       "      <td>17.0</td>\n",
       "      <td>0.238</td>\n",
       "      <td>10.0</td>\n",
       "    </tr>\n",
       "    <tr>\n",
       "      <th>1996-01-01 02:53:59</th>\n",
       "      <td>NaN</td>\n",
       "      <td>140.37</td>\n",
       "      <td>35.75</td>\n",
       "      <td>283.420013</td>\n",
       "      <td>10.0</td>\n",
       "      <td>NaN</td>\n",
       "      <td>17.0</td>\n",
       "      <td>0.241</td>\n",
       "      <td>10.0</td>\n",
       "    </tr>\n",
       "    <tr>\n",
       "      <th>1996-01-01 02:54:03</th>\n",
       "      <td>331.979727</td>\n",
       "      <td>140.37</td>\n",
       "      <td>35.75</td>\n",
       "      <td>283.200012</td>\n",
       "      <td>10.0</td>\n",
       "      <td>NaN</td>\n",
       "      <td>17.0</td>\n",
       "      <td>0.243</td>\n",
       "      <td>10.0</td>\n",
       "    </tr>\n",
       "  </tbody>\n",
       "</table>\n",
       "</div>"
      ],
      "text/plain": [
       "                     TROP1_PRESS     lon    lat    air_temp  air_temp_flag  \\\n",
       "time                                                                         \n",
       "1996-01-01 02:53:47   332.184492  140.37  35.75  283.470001           10.0   \n",
       "1996-01-01 02:53:51   332.142461  140.37  35.75  283.200012           10.0   \n",
       "1996-01-01 02:53:55   332.080781  140.37  35.75  282.950012           10.0   \n",
       "1996-01-01 02:53:59          NaN  140.37  35.75  283.420013           10.0   \n",
       "1996-01-01 02:54:03   331.979727  140.37  35.75  283.200012           10.0   \n",
       "\n",
       "                     RHI  RHI_flag    RHL  RHL_flag  \n",
       "time                                                 \n",
       "1996-01-01 02:53:47  NaN      17.0  0.244      10.0  \n",
       "1996-01-01 02:53:51  NaN      17.0  0.244      10.0  \n",
       "1996-01-01 02:53:55  NaN      17.0  0.238      10.0  \n",
       "1996-01-01 02:53:59  NaN      17.0  0.241      10.0  \n",
       "1996-01-01 02:54:03  NaN      17.0  0.243      10.0  "
      ]
     },
     "execution_count": 21,
     "metadata": {},
     "output_type": "execute_result"
    }
   ],
   "source": [
    "data_all_select.head()"
   ]
  },
  {
   "cell_type": "code",
   "execution_count": 20,
   "id": "f7b514a0-8262-421b-916f-6c0e51f03689",
   "metadata": {},
   "outputs": [],
   "source": [
    "## save dataframe as pickle for analysis\n",
    "data_all_select.to_pickle(\"/p/project1/deepacf/stephenson1/ESDP-FinalProject/iagos_combined.pkl\")"
   ]
  },
  {
   "cell_type": "code",
   "execution_count": null,
   "id": "24e228b2-85b0-48fb-ab35-b1eeb3e986ce",
   "metadata": {
    "editable": true,
    "slideshow": {
     "slide_type": ""
    },
    "tags": []
   },
   "outputs": [],
   "source": [
    "#data_all_select.to_csv(\"/p/project1/deepacf/stephenson1/ESDP-FinalProject/iagos_combined.csv\")"
   ]
  }
 ],
 "metadata": {
  "kernelspec": {
   "display_name": "Python 3 (ipykernel)",
   "language": "python",
   "name": "python3"
  },
  "language_info": {
   "codemirror_mode": {
    "name": "ipython",
    "version": 3
   },
   "file_extension": ".py",
   "mimetype": "text/x-python",
   "name": "python",
   "nbconvert_exporter": "python",
   "pygments_lexer": "ipython3",
   "version": "3.11.3"
  }
 },
 "nbformat": 4,
 "nbformat_minor": 5
}
